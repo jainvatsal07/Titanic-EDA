{
 "cells": [
  {
   "cell_type": "code",
   "execution_count": 1,
   "id": "e09bc0db",
   "metadata": {
    "_cell_guid": "b1076dfc-b9ad-4769-8c92-a6c4dae69d19",
    "_uuid": "8f2839f25d086af736a60e9eeb907d3b93b6e0e5",
    "execution": {
     "iopub.execute_input": "2023-01-22T15:52:56.245345Z",
     "iopub.status.busy": "2023-01-22T15:52:56.244564Z",
     "iopub.status.idle": "2023-01-22T15:52:58.654007Z",
     "shell.execute_reply": "2023-01-22T15:52:58.652825Z"
    },
    "papermill": {
     "duration": 2.423234,
     "end_time": "2023-01-22T15:52:58.657307",
     "exception": false,
     "start_time": "2023-01-22T15:52:56.234073",
     "status": "completed"
    },
    "tags": []
   },
   "outputs": [
    {
     "name": "stdout",
     "output_type": "stream",
     "text": [
      "/kaggle/input/test-file/tested.csv\n"
     ]
    }
   ],
   "source": [
    "# This Python 3 environment comes with many helpful analytics libraries installed\n",
    "# It is defined by the kaggle/python Docker image: https://github.com/kaggle/docker-python\n",
    "# For example, here's several helpful packages to load\n",
    "\n",
    "import numpy as np # linear algebra\n",
    "import pandas as pd # data processing, CSV file I/O (e.g. pd.read_csv)\n",
    "import matplotlib.pyplot as plt\n",
    "from matplotlib import style\n",
    "from pandas_profiling import ProfileReport# data processing, CSV file I/O (e.g. pd.read_csv)\n",
    "%matplotlib inline\n",
    "# Input data files are available in the read-only \"../input/\" directory\n",
    "# For example, running this (by clicking run or pressing Shift+Enter) will list all files under the input directory\n",
    "\n",
    "import os\n",
    "for dirname, _, filenames in os.walk('/kaggle/input'):\n",
    "    for filename in filenames:\n",
    "        print(os.path.join(dirname, filename))\n",
    "\n",
    "# You can write up to 20GB to the current directory (/kaggle/working/) that gets preserved as output when you create a version using \"Save & Run All\" \n",
    "# You can also write temporary files to /kaggle/temp/, but they won't be saved outside of the current session"
   ]
  },
  {
   "cell_type": "code",
   "execution_count": 2,
   "id": "a7af36e4",
   "metadata": {
    "execution": {
     "iopub.execute_input": "2023-01-22T15:52:58.674460Z",
     "iopub.status.busy": "2023-01-22T15:52:58.673749Z",
     "iopub.status.idle": "2023-01-22T15:52:58.701666Z",
     "shell.execute_reply": "2023-01-22T15:52:58.700584Z"
    },
    "papermill": {
     "duration": 0.039359,
     "end_time": "2023-01-22T15:52:58.704541",
     "exception": false,
     "start_time": "2023-01-22T15:52:58.665182",
     "status": "completed"
    },
    "tags": []
   },
   "outputs": [],
   "source": [
    "passengers = pd.read_csv('/kaggle/input/test-file/tested.csv')"
   ]
  },
  {
   "cell_type": "code",
   "execution_count": 3,
   "id": "5a8c9ec4",
   "metadata": {
    "execution": {
     "iopub.execute_input": "2023-01-22T15:52:58.721903Z",
     "iopub.status.busy": "2023-01-22T15:52:58.721195Z",
     "iopub.status.idle": "2023-01-22T15:52:58.743505Z",
     "shell.execute_reply": "2023-01-22T15:52:58.742699Z"
    },
    "papermill": {
     "duration": 0.033392,
     "end_time": "2023-01-22T15:52:58.745680",
     "exception": false,
     "start_time": "2023-01-22T15:52:58.712288",
     "status": "completed"
    },
    "tags": []
   },
   "outputs": [
    {
     "data": {
      "text/html": [
       "<div>\n",
       "<style scoped>\n",
       "    .dataframe tbody tr th:only-of-type {\n",
       "        vertical-align: middle;\n",
       "    }\n",
       "\n",
       "    .dataframe tbody tr th {\n",
       "        vertical-align: top;\n",
       "    }\n",
       "\n",
       "    .dataframe thead th {\n",
       "        text-align: right;\n",
       "    }\n",
       "</style>\n",
       "<table border=\"1\" class=\"dataframe\">\n",
       "  <thead>\n",
       "    <tr style=\"text-align: right;\">\n",
       "      <th></th>\n",
       "      <th>PassengerId</th>\n",
       "      <th>Survived</th>\n",
       "      <th>Pclass</th>\n",
       "      <th>Name</th>\n",
       "      <th>Sex</th>\n",
       "      <th>Age</th>\n",
       "      <th>SibSp</th>\n",
       "      <th>Parch</th>\n",
       "      <th>Ticket</th>\n",
       "      <th>Fare</th>\n",
       "      <th>Cabin</th>\n",
       "      <th>Embarked</th>\n",
       "    </tr>\n",
       "  </thead>\n",
       "  <tbody>\n",
       "    <tr>\n",
       "      <th>0</th>\n",
       "      <td>892</td>\n",
       "      <td>0</td>\n",
       "      <td>3</td>\n",
       "      <td>Kelly, Mr. James</td>\n",
       "      <td>male</td>\n",
       "      <td>34.5</td>\n",
       "      <td>0</td>\n",
       "      <td>0</td>\n",
       "      <td>330911</td>\n",
       "      <td>7.8292</td>\n",
       "      <td>NaN</td>\n",
       "      <td>Q</td>\n",
       "    </tr>\n",
       "    <tr>\n",
       "      <th>1</th>\n",
       "      <td>893</td>\n",
       "      <td>1</td>\n",
       "      <td>3</td>\n",
       "      <td>Wilkes, Mrs. James (Ellen Needs)</td>\n",
       "      <td>female</td>\n",
       "      <td>47.0</td>\n",
       "      <td>1</td>\n",
       "      <td>0</td>\n",
       "      <td>363272</td>\n",
       "      <td>7.0000</td>\n",
       "      <td>NaN</td>\n",
       "      <td>S</td>\n",
       "    </tr>\n",
       "    <tr>\n",
       "      <th>2</th>\n",
       "      <td>894</td>\n",
       "      <td>0</td>\n",
       "      <td>2</td>\n",
       "      <td>Myles, Mr. Thomas Francis</td>\n",
       "      <td>male</td>\n",
       "      <td>62.0</td>\n",
       "      <td>0</td>\n",
       "      <td>0</td>\n",
       "      <td>240276</td>\n",
       "      <td>9.6875</td>\n",
       "      <td>NaN</td>\n",
       "      <td>Q</td>\n",
       "    </tr>\n",
       "    <tr>\n",
       "      <th>3</th>\n",
       "      <td>895</td>\n",
       "      <td>0</td>\n",
       "      <td>3</td>\n",
       "      <td>Wirz, Mr. Albert</td>\n",
       "      <td>male</td>\n",
       "      <td>27.0</td>\n",
       "      <td>0</td>\n",
       "      <td>0</td>\n",
       "      <td>315154</td>\n",
       "      <td>8.6625</td>\n",
       "      <td>NaN</td>\n",
       "      <td>S</td>\n",
       "    </tr>\n",
       "    <tr>\n",
       "      <th>4</th>\n",
       "      <td>896</td>\n",
       "      <td>1</td>\n",
       "      <td>3</td>\n",
       "      <td>Hirvonen, Mrs. Alexander (Helga E Lindqvist)</td>\n",
       "      <td>female</td>\n",
       "      <td>22.0</td>\n",
       "      <td>1</td>\n",
       "      <td>1</td>\n",
       "      <td>3101298</td>\n",
       "      <td>12.2875</td>\n",
       "      <td>NaN</td>\n",
       "      <td>S</td>\n",
       "    </tr>\n",
       "  </tbody>\n",
       "</table>\n",
       "</div>"
      ],
      "text/plain": [
       "   PassengerId  Survived  Pclass  \\\n",
       "0          892         0       3   \n",
       "1          893         1       3   \n",
       "2          894         0       2   \n",
       "3          895         0       3   \n",
       "4          896         1       3   \n",
       "\n",
       "                                           Name     Sex   Age  SibSp  Parch  \\\n",
       "0                              Kelly, Mr. James    male  34.5      0      0   \n",
       "1              Wilkes, Mrs. James (Ellen Needs)  female  47.0      1      0   \n",
       "2                     Myles, Mr. Thomas Francis    male  62.0      0      0   \n",
       "3                              Wirz, Mr. Albert    male  27.0      0      0   \n",
       "4  Hirvonen, Mrs. Alexander (Helga E Lindqvist)  female  22.0      1      1   \n",
       "\n",
       "    Ticket     Fare Cabin Embarked  \n",
       "0   330911   7.8292   NaN        Q  \n",
       "1   363272   7.0000   NaN        S  \n",
       "2   240276   9.6875   NaN        Q  \n",
       "3   315154   8.6625   NaN        S  \n",
       "4  3101298  12.2875   NaN        S  "
      ]
     },
     "execution_count": 3,
     "metadata": {},
     "output_type": "execute_result"
    }
   ],
   "source": [
    "passengers.head()"
   ]
  },
  {
   "cell_type": "code",
   "execution_count": 4,
   "id": "445fe27d",
   "metadata": {
    "execution": {
     "iopub.execute_input": "2023-01-22T15:52:58.763803Z",
     "iopub.status.busy": "2023-01-22T15:52:58.763154Z",
     "iopub.status.idle": "2023-01-22T15:52:58.777065Z",
     "shell.execute_reply": "2023-01-22T15:52:58.776022Z"
    },
    "papermill": {
     "duration": 0.025373,
     "end_time": "2023-01-22T15:52:58.779288",
     "exception": false,
     "start_time": "2023-01-22T15:52:58.753915",
     "status": "completed"
    },
    "tags": []
   },
   "outputs": [
    {
     "data": {
      "text/plain": [
       "PassengerId    418\n",
       "Survived         2\n",
       "Pclass           3\n",
       "Name           418\n",
       "Sex              2\n",
       "Age             79\n",
       "SibSp            7\n",
       "Parch            8\n",
       "Ticket         363\n",
       "Fare           169\n",
       "Cabin           76\n",
       "Embarked         3\n",
       "dtype: int64"
      ]
     },
     "execution_count": 4,
     "metadata": {},
     "output_type": "execute_result"
    }
   ],
   "source": [
    "passengers.nunique()"
   ]
  },
  {
   "cell_type": "code",
   "execution_count": 5,
   "id": "6778e36d",
   "metadata": {
    "execution": {
     "iopub.execute_input": "2023-01-22T15:52:58.797049Z",
     "iopub.status.busy": "2023-01-22T15:52:58.796635Z",
     "iopub.status.idle": "2023-01-22T15:52:58.818759Z",
     "shell.execute_reply": "2023-01-22T15:52:58.817236Z"
    },
    "papermill": {
     "duration": 0.033618,
     "end_time": "2023-01-22T15:52:58.821252",
     "exception": false,
     "start_time": "2023-01-22T15:52:58.787634",
     "status": "completed"
    },
    "tags": []
   },
   "outputs": [
    {
     "data": {
      "text/html": [
       "<div>\n",
       "<style scoped>\n",
       "    .dataframe tbody tr th:only-of-type {\n",
       "        vertical-align: middle;\n",
       "    }\n",
       "\n",
       "    .dataframe tbody tr th {\n",
       "        vertical-align: top;\n",
       "    }\n",
       "\n",
       "    .dataframe thead th {\n",
       "        text-align: right;\n",
       "    }\n",
       "</style>\n",
       "<table border=\"1\" class=\"dataframe\">\n",
       "  <thead>\n",
       "    <tr style=\"text-align: right;\">\n",
       "      <th></th>\n",
       "      <th>PassengerId</th>\n",
       "      <th>Survived</th>\n",
       "      <th>Pclass</th>\n",
       "      <th>Name</th>\n",
       "      <th>Sex</th>\n",
       "      <th>Age</th>\n",
       "      <th>SibSp</th>\n",
       "      <th>Parch</th>\n",
       "      <th>Ticket</th>\n",
       "      <th>Fare</th>\n",
       "      <th>Cabin</th>\n",
       "      <th>Embarked</th>\n",
       "    </tr>\n",
       "  </thead>\n",
       "  <tbody>\n",
       "    <tr>\n",
       "      <th>1</th>\n",
       "      <td>893</td>\n",
       "      <td>1</td>\n",
       "      <td>3</td>\n",
       "      <td>Wilkes, Mrs. James (Ellen Needs)</td>\n",
       "      <td>female</td>\n",
       "      <td>47.0</td>\n",
       "      <td>1</td>\n",
       "      <td>0</td>\n",
       "      <td>363272</td>\n",
       "      <td>7.0000</td>\n",
       "      <td>NaN</td>\n",
       "      <td>S</td>\n",
       "    </tr>\n",
       "    <tr>\n",
       "      <th>4</th>\n",
       "      <td>896</td>\n",
       "      <td>1</td>\n",
       "      <td>3</td>\n",
       "      <td>Hirvonen, Mrs. Alexander (Helga E Lindqvist)</td>\n",
       "      <td>female</td>\n",
       "      <td>22.0</td>\n",
       "      <td>1</td>\n",
       "      <td>1</td>\n",
       "      <td>3101298</td>\n",
       "      <td>12.2875</td>\n",
       "      <td>NaN</td>\n",
       "      <td>S</td>\n",
       "    </tr>\n",
       "    <tr>\n",
       "      <th>6</th>\n",
       "      <td>898</td>\n",
       "      <td>1</td>\n",
       "      <td>3</td>\n",
       "      <td>Connolly, Miss. Kate</td>\n",
       "      <td>female</td>\n",
       "      <td>30.0</td>\n",
       "      <td>0</td>\n",
       "      <td>0</td>\n",
       "      <td>330972</td>\n",
       "      <td>7.6292</td>\n",
       "      <td>NaN</td>\n",
       "      <td>Q</td>\n",
       "    </tr>\n",
       "    <tr>\n",
       "      <th>8</th>\n",
       "      <td>900</td>\n",
       "      <td>1</td>\n",
       "      <td>3</td>\n",
       "      <td>Abrahim, Mrs. Joseph (Sophie Halaut Easu)</td>\n",
       "      <td>female</td>\n",
       "      <td>18.0</td>\n",
       "      <td>0</td>\n",
       "      <td>0</td>\n",
       "      <td>2657</td>\n",
       "      <td>7.2292</td>\n",
       "      <td>NaN</td>\n",
       "      <td>C</td>\n",
       "    </tr>\n",
       "    <tr>\n",
       "      <th>12</th>\n",
       "      <td>904</td>\n",
       "      <td>1</td>\n",
       "      <td>1</td>\n",
       "      <td>Snyder, Mrs. John Pillsbury (Nelle Stevenson)</td>\n",
       "      <td>female</td>\n",
       "      <td>23.0</td>\n",
       "      <td>1</td>\n",
       "      <td>0</td>\n",
       "      <td>21228</td>\n",
       "      <td>82.2667</td>\n",
       "      <td>B45</td>\n",
       "      <td>S</td>\n",
       "    </tr>\n",
       "  </tbody>\n",
       "</table>\n",
       "</div>"
      ],
      "text/plain": [
       "    PassengerId  Survived  Pclass  \\\n",
       "1           893         1       3   \n",
       "4           896         1       3   \n",
       "6           898         1       3   \n",
       "8           900         1       3   \n",
       "12          904         1       1   \n",
       "\n",
       "                                             Name     Sex   Age  SibSp  Parch  \\\n",
       "1                Wilkes, Mrs. James (Ellen Needs)  female  47.0      1      0   \n",
       "4    Hirvonen, Mrs. Alexander (Helga E Lindqvist)  female  22.0      1      1   \n",
       "6                            Connolly, Miss. Kate  female  30.0      0      0   \n",
       "8       Abrahim, Mrs. Joseph (Sophie Halaut Easu)  female  18.0      0      0   \n",
       "12  Snyder, Mrs. John Pillsbury (Nelle Stevenson)  female  23.0      1      0   \n",
       "\n",
       "     Ticket     Fare Cabin Embarked  \n",
       "1    363272   7.0000   NaN        S  \n",
       "4   3101298  12.2875   NaN        S  \n",
       "6    330972   7.6292   NaN        Q  \n",
       "8      2657   7.2292   NaN        C  \n",
       "12    21228  82.2667   B45        S  "
      ]
     },
     "execution_count": 5,
     "metadata": {},
     "output_type": "execute_result"
    }
   ],
   "source": [
    "passengers[passengers['Survived']==1][0:5]"
   ]
  },
  {
   "cell_type": "code",
   "execution_count": 6,
   "id": "e9cb786a",
   "metadata": {
    "execution": {
     "iopub.execute_input": "2023-01-22T15:52:58.841341Z",
     "iopub.status.busy": "2023-01-22T15:52:58.840924Z",
     "iopub.status.idle": "2023-01-22T15:52:58.847840Z",
     "shell.execute_reply": "2023-01-22T15:52:58.846905Z"
    },
    "papermill": {
     "duration": 0.019367,
     "end_time": "2023-01-22T15:52:58.850618",
     "exception": false,
     "start_time": "2023-01-22T15:52:58.831251",
     "status": "completed"
    },
    "tags": []
   },
   "outputs": [
    {
     "name": "stdout",
     "output_type": "stream",
     "text": [
      "152\n",
      "266\n"
     ]
    }
   ],
   "source": [
    "print((passengers['Survived']==1).sum())\n",
    "print((passengers['Survived']==0).sum())"
   ]
  },
  {
   "cell_type": "code",
   "execution_count": 7,
   "id": "b67d56fd",
   "metadata": {
    "execution": {
     "iopub.execute_input": "2023-01-22T15:52:58.869591Z",
     "iopub.status.busy": "2023-01-22T15:52:58.869198Z",
     "iopub.status.idle": "2023-01-22T15:52:58.875235Z",
     "shell.execute_reply": "2023-01-22T15:52:58.873831Z"
    },
    "papermill": {
     "duration": 0.017407,
     "end_time": "2023-01-22T15:52:58.877329",
     "exception": false,
     "start_time": "2023-01-22T15:52:58.859922",
     "status": "completed"
    },
    "tags": []
   },
   "outputs": [],
   "source": [
    "survived = passengers[passengers['Survived']==1]"
   ]
  },
  {
   "cell_type": "code",
   "execution_count": 8,
   "id": "34aff667",
   "metadata": {
    "execution": {
     "iopub.execute_input": "2023-01-22T15:52:58.895552Z",
     "iopub.status.busy": "2023-01-22T15:52:58.895151Z",
     "iopub.status.idle": "2023-01-22T15:52:58.912050Z",
     "shell.execute_reply": "2023-01-22T15:52:58.911057Z"
    },
    "papermill": {
     "duration": 0.028441,
     "end_time": "2023-01-22T15:52:58.914180",
     "exception": false,
     "start_time": "2023-01-22T15:52:58.885739",
     "status": "completed"
    },
    "tags": []
   },
   "outputs": [
    {
     "data": {
      "text/html": [
       "<div>\n",
       "<style scoped>\n",
       "    .dataframe tbody tr th:only-of-type {\n",
       "        vertical-align: middle;\n",
       "    }\n",
       "\n",
       "    .dataframe tbody tr th {\n",
       "        vertical-align: top;\n",
       "    }\n",
       "\n",
       "    .dataframe thead th {\n",
       "        text-align: right;\n",
       "    }\n",
       "</style>\n",
       "<table border=\"1\" class=\"dataframe\">\n",
       "  <thead>\n",
       "    <tr style=\"text-align: right;\">\n",
       "      <th></th>\n",
       "      <th>PassengerId</th>\n",
       "      <th>Survived</th>\n",
       "      <th>Pclass</th>\n",
       "      <th>Name</th>\n",
       "      <th>Sex</th>\n",
       "      <th>Age</th>\n",
       "      <th>SibSp</th>\n",
       "      <th>Parch</th>\n",
       "      <th>Ticket</th>\n",
       "      <th>Fare</th>\n",
       "      <th>Cabin</th>\n",
       "      <th>Embarked</th>\n",
       "    </tr>\n",
       "  </thead>\n",
       "  <tbody>\n",
       "    <tr>\n",
       "      <th>1</th>\n",
       "      <td>893</td>\n",
       "      <td>1</td>\n",
       "      <td>3</td>\n",
       "      <td>Wilkes, Mrs. James (Ellen Needs)</td>\n",
       "      <td>female</td>\n",
       "      <td>47.0</td>\n",
       "      <td>1</td>\n",
       "      <td>0</td>\n",
       "      <td>363272</td>\n",
       "      <td>7.0000</td>\n",
       "      <td>NaN</td>\n",
       "      <td>S</td>\n",
       "    </tr>\n",
       "    <tr>\n",
       "      <th>4</th>\n",
       "      <td>896</td>\n",
       "      <td>1</td>\n",
       "      <td>3</td>\n",
       "      <td>Hirvonen, Mrs. Alexander (Helga E Lindqvist)</td>\n",
       "      <td>female</td>\n",
       "      <td>22.0</td>\n",
       "      <td>1</td>\n",
       "      <td>1</td>\n",
       "      <td>3101298</td>\n",
       "      <td>12.2875</td>\n",
       "      <td>NaN</td>\n",
       "      <td>S</td>\n",
       "    </tr>\n",
       "    <tr>\n",
       "      <th>6</th>\n",
       "      <td>898</td>\n",
       "      <td>1</td>\n",
       "      <td>3</td>\n",
       "      <td>Connolly, Miss. Kate</td>\n",
       "      <td>female</td>\n",
       "      <td>30.0</td>\n",
       "      <td>0</td>\n",
       "      <td>0</td>\n",
       "      <td>330972</td>\n",
       "      <td>7.6292</td>\n",
       "      <td>NaN</td>\n",
       "      <td>Q</td>\n",
       "    </tr>\n",
       "    <tr>\n",
       "      <th>8</th>\n",
       "      <td>900</td>\n",
       "      <td>1</td>\n",
       "      <td>3</td>\n",
       "      <td>Abrahim, Mrs. Joseph (Sophie Halaut Easu)</td>\n",
       "      <td>female</td>\n",
       "      <td>18.0</td>\n",
       "      <td>0</td>\n",
       "      <td>0</td>\n",
       "      <td>2657</td>\n",
       "      <td>7.2292</td>\n",
       "      <td>NaN</td>\n",
       "      <td>C</td>\n",
       "    </tr>\n",
       "    <tr>\n",
       "      <th>12</th>\n",
       "      <td>904</td>\n",
       "      <td>1</td>\n",
       "      <td>1</td>\n",
       "      <td>Snyder, Mrs. John Pillsbury (Nelle Stevenson)</td>\n",
       "      <td>female</td>\n",
       "      <td>23.0</td>\n",
       "      <td>1</td>\n",
       "      <td>0</td>\n",
       "      <td>21228</td>\n",
       "      <td>82.2667</td>\n",
       "      <td>B45</td>\n",
       "      <td>S</td>\n",
       "    </tr>\n",
       "  </tbody>\n",
       "</table>\n",
       "</div>"
      ],
      "text/plain": [
       "    PassengerId  Survived  Pclass  \\\n",
       "1           893         1       3   \n",
       "4           896         1       3   \n",
       "6           898         1       3   \n",
       "8           900         1       3   \n",
       "12          904         1       1   \n",
       "\n",
       "                                             Name     Sex   Age  SibSp  Parch  \\\n",
       "1                Wilkes, Mrs. James (Ellen Needs)  female  47.0      1      0   \n",
       "4    Hirvonen, Mrs. Alexander (Helga E Lindqvist)  female  22.0      1      1   \n",
       "6                            Connolly, Miss. Kate  female  30.0      0      0   \n",
       "8       Abrahim, Mrs. Joseph (Sophie Halaut Easu)  female  18.0      0      0   \n",
       "12  Snyder, Mrs. John Pillsbury (Nelle Stevenson)  female  23.0      1      0   \n",
       "\n",
       "     Ticket     Fare Cabin Embarked  \n",
       "1    363272   7.0000   NaN        S  \n",
       "4   3101298  12.2875   NaN        S  \n",
       "6    330972   7.6292   NaN        Q  \n",
       "8      2657   7.2292   NaN        C  \n",
       "12    21228  82.2667   B45        S  "
      ]
     },
     "execution_count": 8,
     "metadata": {},
     "output_type": "execute_result"
    }
   ],
   "source": [
    "survived.head()"
   ]
  },
  {
   "cell_type": "code",
   "execution_count": 9,
   "id": "b05ccdc9",
   "metadata": {
    "execution": {
     "iopub.execute_input": "2023-01-22T15:52:58.932847Z",
     "iopub.status.busy": "2023-01-22T15:52:58.932452Z",
     "iopub.status.idle": "2023-01-22T15:52:58.938410Z",
     "shell.execute_reply": "2023-01-22T15:52:58.937314Z"
    },
    "papermill": {
     "duration": 0.017898,
     "end_time": "2023-01-22T15:52:58.940634",
     "exception": false,
     "start_time": "2023-01-22T15:52:58.922736",
     "status": "completed"
    },
    "tags": []
   },
   "outputs": [],
   "source": [
    "perished = passengers[passengers['Survived']==0]"
   ]
  },
  {
   "cell_type": "code",
   "execution_count": 10,
   "id": "8a5ede78",
   "metadata": {
    "execution": {
     "iopub.execute_input": "2023-01-22T15:52:58.959623Z",
     "iopub.status.busy": "2023-01-22T15:52:58.959227Z",
     "iopub.status.idle": "2023-01-22T15:52:58.969540Z",
     "shell.execute_reply": "2023-01-22T15:52:58.968435Z"
    },
    "papermill": {
     "duration": 0.02212,
     "end_time": "2023-01-22T15:52:58.971658",
     "exception": false,
     "start_time": "2023-01-22T15:52:58.949538",
     "status": "completed"
    },
    "tags": []
   },
   "outputs": [
    {
     "data": {
      "text/plain": [
       "3    72\n",
       "1    50\n",
       "2    30\n",
       "Name: Pclass, dtype: int64"
      ]
     },
     "execution_count": 10,
     "metadata": {},
     "output_type": "execute_result"
    }
   ],
   "source": [
    "survived['Pclass'].value_counts()"
   ]
  },
  {
   "cell_type": "code",
   "execution_count": 11,
   "id": "b624131c",
   "metadata": {
    "execution": {
     "iopub.execute_input": "2023-01-22T15:52:58.991806Z",
     "iopub.status.busy": "2023-01-22T15:52:58.990588Z",
     "iopub.status.idle": "2023-01-22T15:52:59.238333Z",
     "shell.execute_reply": "2023-01-22T15:52:59.236991Z"
    },
    "papermill": {
     "duration": 0.260379,
     "end_time": "2023-01-22T15:52:59.240919",
     "exception": false,
     "start_time": "2023-01-22T15:52:58.980540",
     "status": "completed"
    },
    "tags": []
   },
   "outputs": [
    {
     "data": {
      "image/png": "[encoded data removed]",
      "text/plain": [
       "<Figure size 504x504 with 1 Axes>"
      ]
     },
     "metadata": {
      "needs_background": "light"
     },
     "output_type": "display_data"
    }
   ],
   "source": [
    "plt.figure(figsize=(7,7))\n",
    "plt.xlabel(\"Passenger class\")\n",
    "plt.ylabel(\"Number of passengers survived from these class\")\n",
    "plt.title(\"Class of passenger survived\")\n",
    "plt.bar(survived['Pclass'].value_counts().keys(),survived['Pclass'].value_counts().values, color=['red','green','blue'])\n",
    "plt.show()"
   ]
  },
  {
   "cell_type": "code",
   "execution_count": 12,
   "id": "60ac9a0e",
   "metadata": {
    "execution": {
     "iopub.execute_input": "2023-01-22T15:52:59.261007Z",
     "iopub.status.busy": "2023-01-22T15:52:59.259901Z",
     "iopub.status.idle": "2023-01-22T15:52:59.267519Z",
     "shell.execute_reply": "2023-01-22T15:52:59.266749Z"
    },
    "papermill": {
     "duration": 0.019766,
     "end_time": "2023-01-22T15:52:59.269593",
     "exception": false,
     "start_time": "2023-01-22T15:52:59.249827",
     "status": "completed"
    },
    "tags": []
   },
   "outputs": [],
   "source": [
    " passengers['AgeGrp'] = pd.cut(passengers['Age'], bins=[-np.inf,17, 39, 59, np.inf], labels=[\"Children\",\"Youth\",\"MiddleAged\",\"SeniorCitizens\"])"
   ]
  },
  {
   "cell_type": "code",
   "execution_count": 13,
   "id": "b012cbf0",
   "metadata": {
    "execution": {
     "iopub.execute_input": "2023-01-22T15:52:59.289642Z",
     "iopub.status.busy": "2023-01-22T15:52:59.289065Z",
     "iopub.status.idle": "2023-01-22T15:52:59.296984Z",
     "shell.execute_reply": "2023-01-22T15:52:59.296044Z"
    },
    "papermill": {
     "duration": 0.020154,
     "end_time": "2023-01-22T15:52:59.299157",
     "exception": false,
     "start_time": "2023-01-22T15:52:59.279003",
     "status": "completed"
    },
    "tags": []
   },
   "outputs": [
    {
     "data": {
      "text/plain": [
       "Youth             209\n",
       "MiddleAged         68\n",
       "Children           41\n",
       "SeniorCitizens     14\n",
       "Name: AgeGrp, dtype: int64"
      ]
     },
     "execution_count": 13,
     "metadata": {},
     "output_type": "execute_result"
    }
   ],
   "source": [
    "passengers['AgeGrp'].value_counts()"
   ]
  },
  {
   "cell_type": "code",
   "execution_count": 14,
   "id": "557f6ad0",
   "metadata": {
    "execution": {
     "iopub.execute_input": "2023-01-22T15:52:59.318664Z",
     "iopub.status.busy": "2023-01-22T15:52:59.318309Z",
     "iopub.status.idle": "2023-01-22T15:52:59.519645Z",
     "shell.execute_reply": "2023-01-22T15:52:59.518646Z"
    },
    "papermill": {
     "duration": 0.213908,
     "end_time": "2023-01-22T15:52:59.522136",
     "exception": false,
     "start_time": "2023-01-22T15:52:59.308228",
     "status": "completed"
    },
    "tags": []
   },
   "outputs": [
    {
     "data": {
      "image/png": "[encoded data removed]",
      "text/plain": [
       "<Figure size 504x504 with 1 Axes>"
      ]
     },
     "metadata": {
      "needs_background": "light"
     },
     "output_type": "display_data"
    }
   ],
   "source": [
    "plt.figure(figsize=(7,7))\n",
    "plt.xlabel(\"Age groups\")\n",
    "plt.ylabel(\"Number of passengers\")\n",
    "plt.title(\"Age groups of passenger\")\n",
    "plt.bar(passengers['AgeGrp'].value_counts().keys(),passengers['AgeGrp'].value_counts().values, color=['red','green','blue'])\n",
    "plt.show()"
   ]
  },
  {
   "cell_type": "code",
   "execution_count": 15,
   "id": "69f8156b",
   "metadata": {
    "execution": {
     "iopub.execute_input": "2023-01-22T15:52:59.543215Z",
     "iopub.status.busy": "2023-01-22T15:52:59.542794Z",
     "iopub.status.idle": "2023-01-22T15:52:59.552108Z",
     "shell.execute_reply": "2023-01-22T15:52:59.550764Z"
    },
    "papermill": {
     "duration": 0.02282,
     "end_time": "2023-01-22T15:52:59.554672",
     "exception": false,
     "start_time": "2023-01-22T15:52:59.531852",
     "status": "completed"
    },
    "tags": []
   },
   "outputs": [
    {
     "name": "stderr",
     "output_type": "stream",
     "text": [
      "/opt/conda/lib/python3.7/site-packages/ipykernel_launcher.py:1: SettingWithCopyWarning: \n",
      "A value is trying to be set on a copy of a slice from a DataFrame.\n",
      "Try using .loc[row_indexer,col_indexer] = value instead\n",
      "\n",
      "See the caveats in the documentation: https://pandas.pydata.org/pandas-docs/stable/user_guide/indexing.html#returning-a-view-versus-a-copy\n",
      "  \"\"\"Entry point for launching an IPython kernel.\n"
     ]
    }
   ],
   "source": [
    " survived['AgeGrp'] = pd.cut(survived['Age'], bins=[-np.inf,17, 39, 59, np.inf], labels=[\"Children\",\"Youth\",\"MiddleAged\",\"SeniorCitizens\"])"
   ]
  },
  {
   "cell_type": "code",
   "execution_count": 16,
   "id": "53d7cfa7",
   "metadata": {
    "execution": {
     "iopub.execute_input": "2023-01-22T15:52:59.574870Z",
     "iopub.status.busy": "2023-01-22T15:52:59.574414Z",
     "iopub.status.idle": "2023-01-22T15:52:59.913135Z",
     "shell.execute_reply": "2023-01-22T15:52:59.912283Z"
    },
    "papermill": {
     "duration": 0.351595,
     "end_time": "2023-01-22T15:52:59.915579",
     "exception": false,
     "start_time": "2023-01-22T15:52:59.563984",
     "status": "completed"
    },
    "tags": []
   },
   "outputs": [
    {
     "data": {
      "image/png": "[encoded data removed]",
      "text/plain": [
       "<Figure size 504x504 with 1 Axes>"
      ]
     },
     "metadata": {
      "needs_background": "light"
     },
     "output_type": "display_data"
    }
   ],
   "source": [
    "plt.figure(figsize=(7,7))\n",
    "plt.xlabel(\"Age groups\")\n",
    "plt.ylabel(\"Number of passengers survived\")\n",
    "plt.title(\"Age groups of passenger who survived\")\n",
    "plt.bar(survived['AgeGrp'].value_counts().keys(),survived['AgeGrp'].value_counts().values, color=['red','green','blue'])\n",
    "plt.show()"
   ]
  },
  {
   "cell_type": "code",
   "execution_count": 17,
   "id": "b8b4f1aa",
   "metadata": {
    "execution": {
     "iopub.execute_input": "2023-01-22T15:52:59.936865Z",
     "iopub.status.busy": "2023-01-22T15:52:59.936186Z",
     "iopub.status.idle": "2023-01-22T15:52:59.945282Z",
     "shell.execute_reply": "2023-01-22T15:52:59.944021Z"
    },
    "papermill": {
     "duration": 0.022561,
     "end_time": "2023-01-22T15:52:59.947865",
     "exception": false,
     "start_time": "2023-01-22T15:52:59.925304",
     "status": "completed"
    },
    "tags": []
   },
   "outputs": [
    {
     "name": "stderr",
     "output_type": "stream",
     "text": [
      "/opt/conda/lib/python3.7/site-packages/ipykernel_launcher.py:1: SettingWithCopyWarning: \n",
      "A value is trying to be set on a copy of a slice from a DataFrame.\n",
      "Try using .loc[row_indexer,col_indexer] = value instead\n",
      "\n",
      "See the caveats in the documentation: https://pandas.pydata.org/pandas-docs/stable/user_guide/indexing.html#returning-a-view-versus-a-copy\n",
      "  \"\"\"Entry point for launching an IPython kernel.\n"
     ]
    }
   ],
   "source": [
    " perished['AgeGrp'] = pd.cut(perished['Age'], bins=[-np.inf,17, 39, 59, np.inf], labels=[\"Children\",\"Youth\",\"MiddleAged\",\"SeniorCitizens\"])"
   ]
  },
  {
   "cell_type": "code",
   "execution_count": 18,
   "id": "0ca8c912",
   "metadata": {
    "execution": {
     "iopub.execute_input": "2023-01-22T15:52:59.968415Z",
     "iopub.status.busy": "2023-01-22T15:52:59.967960Z",
     "iopub.status.idle": "2023-01-22T15:53:00.173165Z",
     "shell.execute_reply": "2023-01-22T15:53:00.171931Z"
    },
    "papermill": {
     "duration": 0.219063,
     "end_time": "2023-01-22T15:53:00.176519",
     "exception": false,
     "start_time": "2023-01-22T15:52:59.957456",
     "status": "completed"
    },
    "tags": []
   },
   "outputs": [
    {
     "data": {
      "image/png": "[encoded data removed]",
      "text/plain": [
       "<Figure size 504x504 with 1 Axes>"
      ]
     },
     "metadata": {
      "needs_background": "light"
     },
     "output_type": "display_data"
    }
   ],
   "source": [
    "plt.figure(figsize=(7,7))\n",
    "plt.xlabel(\"Age groups\")\n",
    "plt.ylabel(\"Number of passengers perished \")\n",
    "plt.title(\"Age groups of passengers perished \")\n",
    "plt.bar(perished['AgeGrp'].value_counts().keys(),perished['AgeGrp'].value_counts().values, color=['red','green','blue'])\n",
    "plt.show()"
   ]
  },
  {
   "cell_type": "code",
   "execution_count": 19,
   "id": "f2748f53",
   "metadata": {
    "execution": {
     "iopub.execute_input": "2023-01-22T15:53:00.200625Z",
     "iopub.status.busy": "2023-01-22T15:53:00.198752Z",
     "iopub.status.idle": "2023-01-22T15:53:00.556026Z",
     "shell.execute_reply": "2023-01-22T15:53:00.554773Z"
    },
    "papermill": {
     "duration": 0.371078,
     "end_time": "2023-01-22T15:53:00.558702",
     "exception": false,
     "start_time": "2023-01-22T15:53:00.187624",
     "status": "completed"
    },
    "tags": []
   },
   "outputs": [
    {
     "data": {
      "image/png": "[encoded data removed]",
      "text/plain": [
       "<Figure size 720x576 with 2 Axes>"
      ]
     },
     "metadata": {
      "needs_background": "light"
     },
     "output_type": "display_data"
    }
   ],
   "source": [
    "plt.figure(figsize=(10,8))\n",
    "\n",
    "\n",
    "plt.subplot(1, 2, 1)\n",
    "plt.xlabel('Age Groups')\n",
    "plt.ylabel('Survived Passengers')\n",
    "plt.title('Survived Passengers & their Age Groups')\n",
    "plt.grid()\n",
    "plt.bar(survived['AgeGrp'].value_counts().keys(),survived['AgeGrp'].value_counts(),color=['purple','blue','orange','magenta'])\n",
    "plt.subplot(1, 2, 2)\n",
    "plt.xlabel('Age Groups')\n",
    "plt.ylabel('Perished Passengers')\n",
    "plt.title('Perished Passengers & their Age Groups')\n",
    "plt.grid()\n",
    "plt.bar(perished ['AgeGrp'].value_counts().keys(),perished['AgeGrp'].value_counts(),color=['red','blue','magenta','green'])\n",
    "plt.show()"
   ]
  },
  {
   "cell_type": "code",
   "execution_count": 20,
   "id": "16c0e69f",
   "metadata": {
    "execution": {
     "iopub.execute_input": "2023-01-22T15:53:00.582731Z",
     "iopub.status.busy": "2023-01-22T15:53:00.581904Z",
     "iopub.status.idle": "2023-01-22T15:53:00.828637Z",
     "shell.execute_reply": "2023-01-22T15:53:00.827694Z"
    },
    "papermill": {
     "duration": 0.26106,
     "end_time": "2023-01-22T15:53:00.830958",
     "exception": false,
     "start_time": "2023-01-22T15:53:00.569898",
     "status": "completed"
    },
    "tags": []
   },
   "outputs": [
    {
     "data": {
      "text/plain": [
       "<matplotlib.legend.Legend at 0x7f64f0a5c5d0>"
      ]
     },
     "execution_count": 20,
     "metadata": {},
     "output_type": "execute_result"
    },
    {
     "data": {
      "image/png": "[encoded data removed]",
      "text/plain": [
       "<Figure size 432x432 with 1 Axes>"
      ]
     },
     "metadata": {},
     "output_type": "display_data"
    }
   ],
   "source": [
    "style.use(\"seaborn\")\n",
    "plt.figure(figsize=(6,6))\n",
    "plt.plot(survived['AgeGrp'].value_counts().keys(),survived['AgeGrp'].value_counts(), label=\"Survived\", linewidth=4)\n",
    "plt.plot(perished['AgeGrp'].value_counts().keys(),perished['AgeGrp'].value_counts(), label=\"Dead\", linewidth=5)\n",
    "\n",
    "plt.xlabel('Age Groups')\n",
    "plt.ylabel('Survived and Perished Passengers')\n",
    "plt.title(\"Survived and Perished Passengers & their Age Groups\",pad=15)\n",
    "plt.legend()"
   ]
  },
  {
   "cell_type": "code",
   "execution_count": 21,
   "id": "b0add692",
   "metadata": {
    "execution": {
     "iopub.execute_input": "2023-01-22T15:53:00.858452Z",
     "iopub.status.busy": "2023-01-22T15:53:00.857678Z",
     "iopub.status.idle": "2023-01-22T15:53:00.869364Z",
     "shell.execute_reply": "2023-01-22T15:53:00.868066Z"
    },
    "papermill": {
     "duration": 0.027129,
     "end_time": "2023-01-22T15:53:00.872020",
     "exception": false,
     "start_time": "2023-01-22T15:53:00.844891",
     "status": "completed"
    },
    "tags": []
   },
   "outputs": [
    {
     "data": {
      "text/html": [
       "<div>\n",
       "<style scoped>\n",
       "    .dataframe tbody tr th:only-of-type {\n",
       "        vertical-align: middle;\n",
       "    }\n",
       "\n",
       "    .dataframe tbody tr th {\n",
       "        vertical-align: top;\n",
       "    }\n",
       "\n",
       "    .dataframe thead th {\n",
       "        text-align: right;\n",
       "    }\n",
       "</style>\n",
       "<table border=\"1\" class=\"dataframe\">\n",
       "  <thead>\n",
       "    <tr style=\"text-align: right;\">\n",
       "      <th></th>\n",
       "      <th>Name</th>\n",
       "      <th>Cabin</th>\n",
       "    </tr>\n",
       "  </thead>\n",
       "  <tbody>\n",
       "    <tr>\n",
       "      <th>0</th>\n",
       "      <td>Kelly, Mr. James</td>\n",
       "      <td>NaN</td>\n",
       "    </tr>\n",
       "    <tr>\n",
       "      <th>1</th>\n",
       "      <td>Wilkes, Mrs. James (Ellen Needs)</td>\n",
       "      <td>NaN</td>\n",
       "    </tr>\n",
       "    <tr>\n",
       "      <th>2</th>\n",
       "      <td>Myles, Mr. Thomas Francis</td>\n",
       "      <td>NaN</td>\n",
       "    </tr>\n",
       "    <tr>\n",
       "      <th>3</th>\n",
       "      <td>Wirz, Mr. Albert</td>\n",
       "      <td>NaN</td>\n",
       "    </tr>\n",
       "    <tr>\n",
       "      <th>4</th>\n",
       "      <td>Hirvonen, Mrs. Alexander (Helga E Lindqvist)</td>\n",
       "      <td>NaN</td>\n",
       "    </tr>\n",
       "  </tbody>\n",
       "</table>\n",
       "</div>"
      ],
      "text/plain": [
       "                                           Name Cabin\n",
       "0                              Kelly, Mr. James   NaN\n",
       "1              Wilkes, Mrs. James (Ellen Needs)   NaN\n",
       "2                     Myles, Mr. Thomas Francis   NaN\n",
       "3                              Wirz, Mr. Albert   NaN\n",
       "4  Hirvonen, Mrs. Alexander (Helga E Lindqvist)   NaN"
      ]
     },
     "execution_count": 21,
     "metadata": {},
     "output_type": "execute_result"
    }
   ],
   "source": [
    "passengers[['Name','Cabin']].head()"
   ]
  },
  {
   "cell_type": "code",
   "execution_count": 22,
   "id": "976626e5",
   "metadata": {
    "execution": {
     "iopub.execute_input": "2023-01-22T15:53:00.896864Z",
     "iopub.status.busy": "2023-01-22T15:53:00.896069Z",
     "iopub.status.idle": "2023-01-22T15:53:00.904579Z",
     "shell.execute_reply": "2023-01-22T15:53:00.903000Z"
    },
    "papermill": {
     "duration": 0.023655,
     "end_time": "2023-01-22T15:53:00.907236",
     "exception": false,
     "start_time": "2023-01-22T15:53:00.883581",
     "status": "completed"
    },
    "tags": []
   },
   "outputs": [
    {
     "name": "stdout",
     "output_type": "stream",
     "text": [
      "327\n",
      "91\n"
     ]
    }
   ],
   "source": [
    "print(passengers['Cabin'].isnull().sum())\n",
    "print(passengers['Cabin'].notnull().sum())"
   ]
  },
  {
   "cell_type": "code",
   "execution_count": 23,
   "id": "7a8f361d",
   "metadata": {
    "execution": {
     "iopub.execute_input": "2023-01-22T15:53:00.932339Z",
     "iopub.status.busy": "2023-01-22T15:53:00.931690Z",
     "iopub.status.idle": "2023-01-22T15:53:00.939285Z",
     "shell.execute_reply": "2023-01-22T15:53:00.938147Z"
    },
    "papermill": {
     "duration": 0.022883,
     "end_time": "2023-01-22T15:53:00.941853",
     "exception": false,
     "start_time": "2023-01-22T15:53:00.918970",
     "status": "completed"
    },
    "tags": []
   },
   "outputs": [
    {
     "data": {
      "text/plain": [
       "S    270\n",
       "C    102\n",
       "Q     46\n",
       "Name: Embarked, dtype: int64"
      ]
     },
     "execution_count": 23,
     "metadata": {},
     "output_type": "execute_result"
    }
   ],
   "source": [
    "passengers['Embarked'].value_counts()"
   ]
  },
  {
   "cell_type": "code",
   "execution_count": 24,
   "id": "bc2fdacc",
   "metadata": {
    "execution": {
     "iopub.execute_input": "2023-01-22T15:53:00.967923Z",
     "iopub.status.busy": "2023-01-22T15:53:00.967196Z",
     "iopub.status.idle": "2023-01-22T15:53:01.097263Z",
     "shell.execute_reply": "2023-01-22T15:53:01.095677Z"
    },
    "papermill": {
     "duration": 0.14775,
     "end_time": "2023-01-22T15:53:01.101646",
     "exception": false,
     "start_time": "2023-01-22T15:53:00.953896",
     "status": "completed"
    },
    "tags": []
   },
   "outputs": [
    {
     "data": {
      "image/png": "[encoded data removed]",
      "text/plain": [
       "<Figure size 432x432 with 1 Axes>"
      ]
     },
     "metadata": {},
     "output_type": "display_data"
    }
   ],
   "source": [
    "plt.figure(figsize=(6,6))\n",
    "plt.title('Passengers and their Towns')\n",
    "#shadow=True\n",
    "plt.pie(passengers['Embarked'].value_counts(),labels=['Southampton','Cherbourg','Queenstown'], autopct ='%1.02f%%', colors=['orange','yellow','lightgreen'])\n",
    "plt.show()"
   ]
  },
  {
   "cell_type": "code",
   "execution_count": 25,
   "id": "b16a6156",
   "metadata": {
    "execution": {
     "iopub.execute_input": "2023-01-22T15:53:01.162147Z",
     "iopub.status.busy": "2023-01-22T15:53:01.161438Z",
     "iopub.status.idle": "2023-01-22T15:53:01.295346Z",
     "shell.execute_reply": "2023-01-22T15:53:01.293809Z"
    },
    "papermill": {
     "duration": 0.168211,
     "end_time": "2023-01-22T15:53:01.299595",
     "exception": false,
     "start_time": "2023-01-22T15:53:01.131384",
     "status": "completed"
    },
    "tags": []
   },
   "outputs": [
    {
     "data": {
      "image/png": "[encoded data removed]",
      "text/plain": [
       "<Figure size 432x432 with 1 Axes>"
      ]
     },
     "metadata": {},
     "output_type": "display_data"
    }
   ],
   "source": [
    "plt.figure(figsize=(6,6))\n",
    "plt.title('Perished and their Towns')\n",
    "#shadow=True\n",
    "explode = (0, 0.1, 0)\n",
    "\n",
    "plt.pie(perished['Embarked'].value_counts(),labels=['Southampton','Cherbourg','Queenstown'], autopct ='%1.02f%%', colors=['orange','yellow','lightgreen'],shadow=True,startangle=90,labeldistance=0.6, pctdistance=0.9)\n",
    "plt.show()"
   ]
  },
  {
   "cell_type": "code",
   "execution_count": 26,
   "id": "671c2137",
   "metadata": {
    "execution": {
     "iopub.execute_input": "2023-01-22T15:53:01.362986Z",
     "iopub.status.busy": "2023-01-22T15:53:01.362302Z",
     "iopub.status.idle": "2023-01-22T15:53:01.501792Z",
     "shell.execute_reply": "2023-01-22T15:53:01.499951Z"
    },
    "papermill": {
     "duration": 0.175182,
     "end_time": "2023-01-22T15:53:01.506636",
     "exception": false,
     "start_time": "2023-01-22T15:53:01.331454",
     "status": "completed"
    },
    "tags": []
   },
   "outputs": [
    {
     "data": {
      "image/png": "[encoded data removed]",
      "text/plain": [
       "<Figure size 432x432 with 1 Axes>"
      ]
     },
     "metadata": {},
     "output_type": "display_data"
    }
   ],
   "source": [
    "plt.figure(figsize=(6,6))\n",
    "plt.title('Survived and their Towns')\n",
    "#shadow=True\n",
    "explode = (0, 0.1, 0)\n",
    "\n",
    "plt.pie(survived['Embarked'].value_counts(),labels=['orange','yellow','lightgreen'], autopct ='%1.02f%%', colors=['orange','yellow','lightgreen'],shadow=True,startangle=90,labeldistance=0.6, pctdistance=0.9)\n",
    "plt.show()"
   ]
  },
  {
   "cell_type": "code",
   "execution_count": 27,
   "id": "46b69ab2",
   "metadata": {
    "execution": {
     "iopub.execute_input": "2023-01-22T15:53:01.568694Z",
     "iopub.status.busy": "2023-01-22T15:53:01.567985Z",
     "iopub.status.idle": "2023-01-22T15:53:01.829940Z",
     "shell.execute_reply": "2023-01-22T15:53:01.828453Z"
    },
    "papermill": {
     "duration": 0.294247,
     "end_time": "2023-01-22T15:53:01.833827",
     "exception": false,
     "start_time": "2023-01-22T15:53:01.539580",
     "status": "completed"
    },
    "tags": []
   },
   "outputs": [
    {
     "data": {
      "image/png": "[encoded data removed]",
      "text/plain": [
       "<Figure size 360x360 with 1 Axes>"
      ]
     },
     "metadata": {},
     "output_type": "display_data"
    }
   ],
   "source": [
    "plt.figure(figsize=(5,5))\n",
    "\n",
    "#plt.subplots(figsize=(10,6), facecolor='purple')\n",
    "\n",
    "\n",
    "plt.pie(perished['Embarked'].value_counts(), \n",
    "       radius=1, \n",
    "       colors=['lightblue','lightyellow','red'], \n",
    "       labels=['Southampton','Cherbourg','Queenstown'], \n",
    "       textprops={'color':'black'},\n",
    "        startangle=90,\n",
    "       wedgeprops=dict(width=0.6, edgecolor='w'),\n",
    "        autopct ='%1.02f%%',\n",
    "       #pctdistance=1.1,\n",
    "        labeldistance=0.4,\n",
    "        shadow=True)\n",
    "plt.pie(survived['Embarked'].value_counts(), \n",
    "       radius=1.5, \n",
    "       colors=['lightgreen','maroon','purple'],\n",
    "        textprops={'color':'white'},\n",
    "        startangle=90,\n",
    "       wedgeprops=dict(width=0.6, edgecolor='w'),\n",
    "        labels=['Southampton','Cherbourg','Queenstown'], \n",
    "        shadow=True, labeldistance=0.7,autopct ='%1.02f%%',pctdistance=1)\n",
    "#plt.tight_layout()\n",
    "plt.show()"
   ]
  },
  {
   "cell_type": "code",
   "execution_count": 28,
   "id": "31a314cd",
   "metadata": {
    "execution": {
     "iopub.execute_input": "2023-01-22T15:53:01.886307Z",
     "iopub.status.busy": "2023-01-22T15:53:01.885644Z",
     "iopub.status.idle": "2023-01-22T15:53:02.088085Z",
     "shell.execute_reply": "2023-01-22T15:53:02.087193Z"
    },
    "papermill": {
     "duration": 0.222802,
     "end_time": "2023-01-22T15:53:02.090232",
     "exception": false,
     "start_time": "2023-01-22T15:53:01.867430",
     "status": "completed"
    },
    "tags": []
   },
   "outputs": [
    {
     "data": {
      "image/png": "[encoded data removed]",
      "text/plain": [
       "<Figure size 432x432 with 1 Axes>"
      ]
     },
     "metadata": {},
     "output_type": "display_data"
    }
   ],
   "source": [
    "plt.figure(figsize=(6,6))\n",
    "plt.hist(passengers['Fare'],color='lightblue',)\n",
    "plt.show()"
   ]
  },
  {
   "cell_type": "code",
   "execution_count": null,
   "id": "02a31738",
   "metadata": {
    "execution": {
     "iopub.execute_input": "2023-01-22T15:53:02.119325Z",
     "iopub.status.busy": "2023-01-22T15:53:02.118872Z",
     "iopub.status.idle": "2023-01-22T15:53:02.125762Z",
     "shell.execute_reply": "2023-01-22T15:53:02.124565Z"
    },
    "papermill": {
     "duration": 0.024619,
     "end_time": "2023-01-22T15:53:02.128433",
     "exception": false,
     "start_time": "2023-01-22T15:53:02.103814",
     "status": "completed"
    },
    "tags": []
   },
   "outputs": [],
   "source": []
  },
  {
   "cell_type": "code",
   "execution_count": null,
   "id": "2384f823",
   "metadata": {
    "execution": {
     "iopub.execute_input": "2023-01-22T15:53:02.157518Z",
     "iopub.status.busy": "2023-01-22T15:53:02.157140Z",
     "iopub.status.idle": "2023-01-22T15:53:17.979060Z",
     "shell.execute_reply": "2023-01-22T15:53:17.977884Z"
    },
    "papermill": {
     "duration": 15.907838,
     "end_time": "2023-01-22T15:53:18.050202",
     "exception": false,
     "start_time": "2023-01-22T15:53:02.142364",
     "status": "completed"
    },
    "tags": []
   },
   "outputs": [],
   "source": [
    "\n"
   ]
  },
  {
   "cell_type": "code",
   "execution_count": null,
   "id": "9b0537c2",
   "metadata": {
    "papermill": {
     "duration": 0.075524,
     "end_time": "2023-01-22T15:53:18.203257",
     "exception": false,
     "start_time": "2023-01-22T15:53:18.127733",
     "status": "completed"
    },
    "tags": []
   },
   "outputs": [],
   "source": []
  }
 ],
 "metadata": {
  "kernelspec": {
   "display_name": "Python 3",
   "language": "python",
   "name": "python3"
  },
  "language_info": {
   "codemirror_mode": {
    "name": "ipython",
    "version": 3
   },
   "file_extension": ".py",
   "mimetype": "text/x-python",
   "name": "python",
   "nbconvert_exporter": "python",
   "pygments_lexer": "ipython3",
   "version": "3.8.8"
  },
  "papermill": {
   "default_parameters": {},
   "duration": 32.709244,
   "end_time": "2023-01-22T15:53:20.897634",
   "environment_variables": {},
   "exception": null,
   "input_path": "__notebook__.ipynb",
   "output_path": "__notebook__.ipynb",
   "parameters": {},
   "start_time": "2023-01-22T15:52:48.188390",
   "version": "2.3.4"
  },
  "widgets": {
   "application/vnd.jupyter.widget-state+json": {
    "state": {
     "00c0f5b306ec40b2ab27d701acfb1507": {
      "model_module": "@jupyter-widgets/controls",
      "model_module_version": "1.5.0",
      "model_name": "ProgressStyleModel",
      "state": {
       "_model_module": "@jupyter-widgets/controls",
       "_model_module_version": "1.5.0",
       "_model_name": "ProgressStyleModel",
       "_view_count": null,
       "_view_module": "@jupyter-widgets/base",
       "_view_module_version": "1.2.0",
       "_view_name": "StyleView",
       "bar_color": null,
       "description_width": ""
      }
     },
     "1a78c416aa914a1aad787a0abee2e1f7": {
      "model_module": "@jupyter-widgets/base",
      "model_module_version": "1.2.0",
      "model_name": "LayoutModel",
      "state": {
       "_model_module": "@jupyter-widgets/base",
       "_model_module_version": "1.2.0",
       "_model_name": "LayoutModel",
       "_view_count": null,
       "_view_module": "@jupyter-widgets/base",
       "_view_module_version": "1.2.0",
       "_view_name": "LayoutView",
       "align_content": null,
       "align_items": null,
       "align_self": null,
       "border": null,
       "bottom": null,
       "display": null,
       "flex": null,
       "flex_flow": null,
       "grid_area": null,
       "grid_auto_columns": null,
       "grid_auto_flow": null,
       "grid_auto_rows": null,
       "grid_column": null,
       "grid_gap": null,
       "grid_row": null,
       "grid_template_areas": null,
       "grid_template_columns": null,
       "grid_template_rows": null,
       "height": null,
       "justify_content": null,
       "justify_items": null,
       "left": null,
       "margin": null,
       "max_height": null,
       "max_width": null,
       "min_height": null,
       "min_width": null,
       "object_fit": null,
       "object_position": null,
       "order": null,
       "overflow": null,
       "overflow_x": null,
       "overflow_y": null,
       "padding": null,
       "right": null,
       "top": null,
       "visibility": null,
       "width": null
      }
     },
     "1cdba84fdef8494da933078ceb7e1d19": {
      "model_module": "@jupyter-widgets/controls",
      "model_module_version": "1.5.0",
      "model_name": "HTMLModel",
      "state": {
       "_dom_classes": [],
       "_model_module": "@jupyter-widgets/controls",
       "_model_module_version": "1.5.0",
       "_model_name": "HTMLModel",
       "_view_count": null,
       "_view_module": "@jupyter-widgets/controls",
       "_view_module_version": "1.5.0",
       "_view_name": "HTMLView",
       "description": "",
       "description_tooltip": null,
       "layout": "IPY_MODEL_aa283fe169bb47b08a29721685cfa2dd",
       "placeholder": "​",
       "style": "IPY_MODEL_a179824624d14c5fa6218f9ace585bfd",
       "value": " 53/53 [00:08&lt;00:00,  6.45it/s, Completed]"
      }
     },
     "293b5a4e3c2b4992a9f945a7493c5d95": {
      "model_module": "@jupyter-widgets/base",
      "model_module_version": "1.2.0",
      "model_name": "LayoutModel",
      "state": {
       "_model_module": "@jupyter-widgets/base",
       "_model_module_version": "1.2.0",
       "_model_name": "LayoutModel",
       "_view_count": null,
       "_view_module": "@jupyter-widgets/base",
       "_view_module_version": "1.2.0",
       "_view_name": "LayoutView",
       "align_content": null,
       "align_items": null,
       "align_self": null,
       "border": null,
       "bottom": null,
       "display": null,
       "flex": null,
       "flex_flow": null,
       "grid_area": null,
       "grid_auto_columns": null,
       "grid_auto_flow": null,
       "grid_auto_rows": null,
       "grid_column": null,
       "grid_gap": null,
       "grid_row": null,
       "grid_template_areas": null,
       "grid_template_columns": null,
       "grid_template_rows": null,
       "height": null,
       "justify_content": null,
       "justify_items": null,
       "left": null,
       "margin": null,
       "max_height": null,
       "max_width": null,
       "min_height": null,
       "min_width": null,
       "object_fit": null,
       "object_position": null,
       "order": null,
       "overflow": null,
       "overflow_x": null,
       "overflow_y": null,
       "padding": null,
       "right": null,
       "top": null,
       "visibility": null,
       "width": null
      }
     },
     "35e7f2ac1f334dde8a23364afcc95dc4": {
      "model_module": "@jupyter-widgets/controls",
      "model_module_version": "1.5.0",
      "model_name": "FloatProgressModel",
      "state": {
       "_dom_classes": [],
       "_model_module": "@jupyter-widgets/controls",
       "_model_module_version": "1.5.0",
       "_model_name": "FloatProgressModel",
       "_view_count": null,
       "_view_module": "@jupyter-widgets/controls",
       "_view_module_version": "1.5.0",
       "_view_name": "ProgressView",
       "bar_style": "success",
       "description": "",
       "description_tooltip": null,
       "layout": "IPY_MODEL_97bd76c389984cc291920a86759fd427",
       "max": 5,
       "min": 0,
       "orientation": "horizontal",
       "style": "IPY_MODEL_4438dc7fe6974df78cae7c38354c6113",
       "value": 5
      }
     },
     "40e5e48f3b4c4a809777c64b7015ff4c": {
      "model_module": "@jupyter-widgets/controls",
      "model_module_version": "1.5.0",
      "model_name": "FloatProgressModel",
      "state": {
       "_dom_classes": [],
       "_model_module": "@jupyter-widgets/controls",
       "_model_module_version": "1.5.0",
       "_model_name": "FloatProgressModel",
       "_view_count": null,
       "_view_module": "@jupyter-widgets/controls",
       "_view_module_version": "1.5.0",
       "_view_name": "ProgressView",
       "bar_style": "success",
       "description": "",
       "description_tooltip": null,
       "layout": "IPY_MODEL_fafa844d2a8a426ea14aee5e9cf03a54",
       "max": 1,
       "min": 0,
       "orientation": "horizontal",
       "style": "IPY_MODEL_00c0f5b306ec40b2ab27d701acfb1507",
       "value": 1
      }
     },
     "40f31eb545314fadaa0cefb9999a7941": {
      "model_module": "@jupyter-widgets/controls",
      "model_module_version": "1.5.0",
      "model_name": "HTMLModel",
      "state": {
       "_dom_classes": [],
       "_model_module": "@jupyter-widgets/controls",
       "_model_module_version": "1.5.0",
       "_model_name": "HTMLModel",
       "_view_count": null,
       "_view_module": "@jupyter-widgets/controls",
       "_view_module_version": "1.5.0",
       "_view_name": "HTMLView",
       "description": "",
       "description_tooltip": null,
       "layout": "IPY_MODEL_1a78c416aa914a1aad787a0abee2e1f7",
       "placeholder": "​",
       "style": "IPY_MODEL_c0ea0c11e013421f9b9cad4694ef96a2",
       "value": "Render HTML: 100%"
      }
     },
     "4438dc7fe6974df78cae7c38354c6113": {
      "model_module": "@jupyter-widgets/controls",
      "model_module_version": "1.5.0",
      "model_name": "ProgressStyleModel",
      "state": {
       "_model_module": "@jupyter-widgets/controls",
       "_model_module_version": "1.5.0",
       "_model_name": "ProgressStyleModel",
       "_view_count": null,
       "_view_module": "@jupyter-widgets/base",
       "_view_module_version": "1.2.0",
       "_view_name": "StyleView",
       "bar_color": null,
       "description_width": ""
      }
     },
     "517e2a37b5d0429481f0ed427dbe1d71": {
      "model_module": "@jupyter-widgets/controls",
      "model_module_version": "1.5.0",
      "model_name": "HBoxModel",
      "state": {
       "_dom_classes": [],
       "_model_module": "@jupyter-widgets/controls",
       "_model_module_version": "1.5.0",
       "_model_name": "HBoxModel",
       "_view_count": null,
       "_view_module": "@jupyter-widgets/controls",
       "_view_module_version": "1.5.0",
       "_view_name": "HBoxView",
       "box_style": "",
       "children": [
        "IPY_MODEL_40f31eb545314fadaa0cefb9999a7941",
        "IPY_MODEL_40e5e48f3b4c4a809777c64b7015ff4c",
        "IPY_MODEL_bdce0b5f1dbb4a9d8aa65112a9413aae"
       ],
       "layout": "IPY_MODEL_67d5f114fae14ae5b5c0e97d9c115208"
      }
     },
     "556e176be0ec47b99675268853b4f0ce": {
      "model_module": "@jupyter-widgets/controls",
      "model_module_version": "1.5.0",
      "model_name": "DescriptionStyleModel",
      "state": {
       "_model_module": "@jupyter-widgets/controls",
       "_model_module_version": "1.5.0",
       "_model_name": "DescriptionStyleModel",
       "_view_count": null,
       "_view_module": "@jupyter-widgets/base",
       "_view_module_version": "1.2.0",
       "_view_name": "StyleView",
       "description_width": ""
      }
     },
     "563c9fdc43af42359f12668d932a1f1f": {
      "model_module": "@jupyter-widgets/base",
      "model_module_version": "1.2.0",
      "model_name": "LayoutModel",
      "state": {
       "_model_module": "@jupyter-widgets/base",
       "_model_module_version": "1.2.0",
       "_model_name": "LayoutModel",
       "_view_count": null,
       "_view_module": "@jupyter-widgets/base",
       "_view_module_version": "1.2.0",
       "_view_name": "LayoutView",
       "align_content": null,
       "align_items": null,
       "align_self": null,
       "border": null,
       "bottom": null,
       "display": null,
       "flex": null,
       "flex_flow": null,
       "grid_area": null,
       "grid_auto_columns": null,
       "grid_auto_flow": null,
       "grid_auto_rows": null,
       "grid_column": null,
       "grid_gap": null,
       "grid_row": null,
       "grid_template_areas": null,
       "grid_template_columns": null,
       "grid_template_rows": null,
       "height": null,
       "justify_content": null,
       "justify_items": null,
       "left": null,
       "margin": null,
       "max_height": null,
       "max_width": null,
       "min_height": null,
       "min_width": null,
       "object_fit": null,
       "object_position": null,
       "order": null,
       "overflow": null,
       "overflow_x": null,
       "overflow_y": null,
       "padding": null,
       "right": null,
       "top": null,
       "visibility": null,
       "width": null
      }
     },
     "5966e06a186d4c31a0891cf5b1dee424": {
      "model_module": "@jupyter-widgets/controls",
      "model_module_version": "1.5.0",
      "model_name": "ProgressStyleModel",
      "state": {
       "_model_module": "@jupyter-widgets/controls",
       "_model_module_version": "1.5.0",
       "_model_name": "ProgressStyleModel",
       "_view_count": null,
       "_view_module": "@jupyter-widgets/base",
       "_view_module_version": "1.2.0",
       "_view_name": "StyleView",
       "bar_color": null,
       "description_width": ""
      }
     },
     "5e07c8cecc524efcb78e231f8f01e92b": {
      "model_module": "@jupyter-widgets/controls",
      "model_module_version": "1.5.0",
      "model_name": "HTMLModel",
      "state": {
       "_dom_classes": [],
       "_model_module": "@jupyter-widgets/controls",
       "_model_module_version": "1.5.0",
       "_model_name": "HTMLModel",
       "_view_count": null,
       "_view_module": "@jupyter-widgets/controls",
       "_view_module_version": "1.5.0",
       "_view_name": "HTMLView",
       "description": "",
       "description_tooltip": null,
       "layout": "IPY_MODEL_fa7fc36911cf4539b8a9eb5b32e49c23",
       "placeholder": "​",
       "style": "IPY_MODEL_e3da01df9c0446b08c6f67bc84df0349",
       "value": " 1/1 [00:06&lt;00:00,  6.10s/it]"
      }
     },
     "67d5f114fae14ae5b5c0e97d9c115208": {
      "model_module": "@jupyter-widgets/base",
      "model_module_version": "1.2.0",
      "model_name": "LayoutModel",
      "state": {
       "_model_module": "@jupyter-widgets/base",
       "_model_module_version": "1.2.0",
       "_model_name": "LayoutModel",
       "_view_count": null,
       "_view_module": "@jupyter-widgets/base",
       "_view_module_version": "1.2.0",
       "_view_name": "LayoutView",
       "align_content": null,
       "align_items": null,
       "align_self": null,
       "border": null,
       "bottom": null,
       "display": null,
       "flex": null,
       "flex_flow": null,
       "grid_area": null,
       "grid_auto_columns": null,
       "grid_auto_flow": null,
       "grid_auto_rows": null,
       "grid_column": null,
       "grid_gap": null,
       "grid_row": null,
       "grid_template_areas": null,
       "grid_template_columns": null,
       "grid_template_rows": null,
       "height": null,
       "justify_content": null,
       "justify_items": null,
       "left": null,
       "margin": null,
       "max_height": null,
       "max_width": null,
       "min_height": null,
       "min_width": null,
       "object_fit": null,
       "object_position": null,
       "order": null,
       "overflow": null,
       "overflow_x": null,
       "overflow_y": null,
       "padding": null,
       "right": null,
       "top": null,
       "visibility": null,
       "width": null
      }
     },
     "81bc50c1cdf2412f9829a393e47b81f5": {
      "model_module": "@jupyter-widgets/controls",
      "model_module_version": "1.5.0",
      "model_name": "HBoxModel",
      "state": {
       "_dom_classes": [],
       "_model_module": "@jupyter-widgets/controls",
       "_model_module_version": "1.5.0",
       "_model_name": "HBoxModel",
       "_view_count": null,
       "_view_module": "@jupyter-widgets/controls",
       "_view_module_version": "1.5.0",
       "_view_name": "HBoxView",
       "box_style": "",
       "children": [
        "IPY_MODEL_dc311bc3262e429c9980c62d00b27222",
        "IPY_MODEL_8939ac64ecf3443e8d26ea68cb2bca3a",
        "IPY_MODEL_5e07c8cecc524efcb78e231f8f01e92b"
       ],
       "layout": "IPY_MODEL_293b5a4e3c2b4992a9f945a7493c5d95"
      }
     },
     "8939ac64ecf3443e8d26ea68cb2bca3a": {
      "model_module": "@jupyter-widgets/controls",
      "model_module_version": "1.5.0",
      "model_name": "FloatProgressModel",
      "state": {
       "_dom_classes": [],
       "_model_module": "@jupyter-widgets/controls",
       "_model_module_version": "1.5.0",
       "_model_name": "FloatProgressModel",
       "_view_count": null,
       "_view_module": "@jupyter-widgets/controls",
       "_view_module_version": "1.5.0",
       "_view_name": "ProgressView",
       "bar_style": "success",
       "description": "",
       "description_tooltip": null,
       "layout": "IPY_MODEL_ca314b3787844a62b142aa8031160330",
       "max": 1,
       "min": 0,
       "orientation": "horizontal",
       "style": "IPY_MODEL_5966e06a186d4c31a0891cf5b1dee424",
       "value": 1
      }
     },
     "97bd76c389984cc291920a86759fd427": {
      "model_module": "@jupyter-widgets/base",
      "model_module_version": "1.2.0",
      "model_name": "LayoutModel",
      "state": {
       "_model_module": "@jupyter-widgets/base",
       "_model_module_version": "1.2.0",
       "_model_name": "LayoutModel",
       "_view_count": null,
       "_view_module": "@jupyter-widgets/base",
       "_view_module_version": "1.2.0",
       "_view_name": "LayoutView",
       "align_content": null,
       "align_items": null,
       "align_self": null,
       "border": null,
       "bottom": null,
       "display": null,
       "flex": null,
       "flex_flow": null,
       "grid_area": null,
       "grid_auto_columns": null,
       "grid_auto_flow": null,
       "grid_auto_rows": null,
       "grid_column": null,
       "grid_gap": null,
       "grid_row": null,
       "grid_template_areas": null,
       "grid_template_columns": null,
       "grid_template_rows": null,
       "height": null,
       "justify_content": null,
       "justify_items": null,
       "left": null,
       "margin": null,
       "max_height": null,
       "max_width": null,
       "min_height": null,
       "min_width": null,
       "object_fit": null,
       "object_position": null,
       "order": null,
       "overflow": null,
       "overflow_x": null,
       "overflow_y": null,
       "padding": null,
       "right": null,
       "top": null,
       "visibility": null,
       "width": null
      }
     },
     "a179824624d14c5fa6218f9ace585bfd": {
      "model_module": "@jupyter-widgets/controls",
      "model_module_version": "1.5.0",
      "model_name": "DescriptionStyleModel",
      "state": {
       "_model_module": "@jupyter-widgets/controls",
       "_model_module_version": "1.5.0",
       "_model_name": "DescriptionStyleModel",
       "_view_count": null,
       "_view_module": "@jupyter-widgets/base",
       "_view_module_version": "1.2.0",
       "_view_name": "StyleView",
       "description_width": ""
      }
     },
     "a3d49607bad54f408bc376f7a40e4279": {
      "model_module": "@jupyter-widgets/base",
      "model_module_version": "1.2.0",
      "model_name": "LayoutModel",
      "state": {
       "_model_module": "@jupyter-widgets/base",
       "_model_module_version": "1.2.0",
       "_model_name": "LayoutModel",
       "_view_count": null,
       "_view_module": "@jupyter-widgets/base",
       "_view_module_version": "1.2.0",
       "_view_name": "LayoutView",
       "align_content": null,
       "align_items": null,
       "align_self": null,
       "border": null,
       "bottom": null,
       "display": null,
       "flex": null,
       "flex_flow": null,
       "grid_area": null,
       "grid_auto_columns": null,
       "grid_auto_flow": null,
       "grid_auto_rows": null,
       "grid_column": null,
       "grid_gap": null,
       "grid_row": null,
       "grid_template_areas": null,
       "grid_template_columns": null,
       "grid_template_rows": null,
       "height": null,
       "justify_content": null,
       "justify_items": null,
       "left": null,
       "margin": null,
       "max_height": null,
       "max_width": null,
       "min_height": null,
       "min_width": null,
       "object_fit": null,
       "object_position": null,
       "order": null,
       "overflow": null,
       "overflow_x": null,
       "overflow_y": null,
       "padding": null,
       "right": null,
       "top": null,
       "visibility": null,
       "width": null
      }
     },
     "a779d8b6c93e4b4fabb7fc0ef8ae710c": {
      "model_module": "@jupyter-widgets/base",
      "model_module_version": "1.2.0",
      "model_name": "LayoutModel",
      "state": {
       "_model_module": "@jupyter-widgets/base",
       "_model_module_version": "1.2.0",
       "_model_name": "LayoutModel",
       "_view_count": null,
       "_view_module": "@jupyter-widgets/base",
       "_view_module_version": "1.2.0",
       "_view_name": "LayoutView",
       "align_content": null,
       "align_items": null,
       "align_self": null,
       "border": null,
       "bottom": null,
       "display": null,
       "flex": null,
       "flex_flow": null,
       "grid_area": null,
       "grid_auto_columns": null,
       "grid_auto_flow": null,
       "grid_auto_rows": null,
       "grid_column": null,
       "grid_gap": null,
       "grid_row": null,
       "grid_template_areas": null,
       "grid_template_columns": null,
       "grid_template_rows": null,
       "height": null,
       "justify_content": null,
       "justify_items": null,
       "left": null,
       "margin": null,
       "max_height": null,
       "max_width": null,
       "min_height": null,
       "min_width": null,
       "object_fit": null,
       "object_position": null,
       "order": null,
       "overflow": null,
       "overflow_x": null,
       "overflow_y": null,
       "padding": null,
       "right": null,
       "top": null,
       "visibility": null,
       "width": null
      }
     },
     "aa283fe169bb47b08a29721685cfa2dd": {
      "model_module": "@jupyter-widgets/base",
      "model_module_version": "1.2.0",
      "model_name": "LayoutModel",
      "state": {
       "_model_module": "@jupyter-widgets/base",
       "_model_module_version": "1.2.0",
       "_model_name": "LayoutModel",
       "_view_count": null,
       "_view_module": "@jupyter-widgets/base",
       "_view_module_version": "1.2.0",
       "_view_name": "LayoutView",
       "align_content": null,
       "align_items": null,
       "align_self": null,
       "border": null,
       "bottom": null,
       "display": null,
       "flex": null,
       "flex_flow": null,
       "grid_area": null,
       "grid_auto_columns": null,
       "grid_auto_flow": null,
       "grid_auto_rows": null,
       "grid_column": null,
       "grid_gap": null,
       "grid_row": null,
       "grid_template_areas": null,
       "grid_template_columns": null,
       "grid_template_rows": null,
       "height": null,
       "justify_content": null,
       "justify_items": null,
       "left": null,
       "margin": null,
       "max_height": null,
       "max_width": null,
       "min_height": null,
       "min_width": null,
       "object_fit": null,
       "object_position": null,
       "order": null,
       "overflow": null,
       "overflow_x": null,
       "overflow_y": null,
       "padding": null,
       "right": null,
       "top": null,
       "visibility": null,
       "width": null
      }
     },
     "bdce0b5f1dbb4a9d8aa65112a9413aae": {
      "model_module": "@jupyter-widgets/controls",
      "model_module_version": "1.5.0",
      "model_name": "HTMLModel",
      "state": {
       "_dom_classes": [],
       "_model_module": "@jupyter-widgets/controls",
       "_model_module_version": "1.5.0",
       "_model_name": "HTMLModel",
       "_view_count": null,
       "_view_module": "@jupyter-widgets/controls",
       "_view_module_version": "1.5.0",
       "_view_name": "HTMLView",
       "description": "",
       "description_tooltip": null,
       "layout": "IPY_MODEL_a3d49607bad54f408bc376f7a40e4279",
       "placeholder": "​",
       "style": "IPY_MODEL_f75861f42fca4fd8addf0f1c3710dbec",
       "value": " 1/1 [00:01&lt;00:00,  1.42s/it]"
      }
     },
     "c0ea0c11e013421f9b9cad4694ef96a2": {
      "model_module": "@jupyter-widgets/controls",
      "model_module_version": "1.5.0",
      "model_name": "DescriptionStyleModel",
      "state": {
       "_model_module": "@jupyter-widgets/controls",
       "_model_module_version": "1.5.0",
       "_model_name": "DescriptionStyleModel",
       "_view_count": null,
       "_view_module": "@jupyter-widgets/base",
       "_view_module_version": "1.2.0",
       "_view_name": "StyleView",
       "description_width": ""
      }
     },
     "c7da3b02eb2b4e1ca175da8211f4b6d3": {
      "model_module": "@jupyter-widgets/controls",
      "model_module_version": "1.5.0",
      "model_name": "HBoxModel",
      "state": {
       "_dom_classes": [],
       "_model_module": "@jupyter-widgets/controls",
       "_model_module_version": "1.5.0",
       "_model_name": "HBoxModel",
       "_view_count": null,
       "_view_module": "@jupyter-widgets/controls",
       "_view_module_version": "1.5.0",
       "_view_name": "HBoxView",
       "box_style": "",
       "children": [
        "IPY_MODEL_e3aa2ce736594916a0a1515127f19f61",
        "IPY_MODEL_35e7f2ac1f334dde8a23364afcc95dc4",
        "IPY_MODEL_1cdba84fdef8494da933078ceb7e1d19"
       ],
       "layout": "IPY_MODEL_563c9fdc43af42359f12668d932a1f1f"
      }
     },
     "c875785f35bf40dcb6b110db2327863c": {
      "model_module": "@jupyter-widgets/base",
      "model_module_version": "1.2.0",
      "model_name": "LayoutModel",
      "state": {
       "_model_module": "@jupyter-widgets/base",
       "_model_module_version": "1.2.0",
       "_model_name": "LayoutModel",
       "_view_count": null,
       "_view_module": "@jupyter-widgets/base",
       "_view_module_version": "1.2.0",
       "_view_name": "LayoutView",
       "align_content": null,
       "align_items": null,
       "align_self": null,
       "border": null,
       "bottom": null,
       "display": null,
       "flex": null,
       "flex_flow": null,
       "grid_area": null,
       "grid_auto_columns": null,
       "grid_auto_flow": null,
       "grid_auto_rows": null,
       "grid_column": null,
       "grid_gap": null,
       "grid_row": null,
       "grid_template_areas": null,
       "grid_template_columns": null,
       "grid_template_rows": null,
       "height": null,
       "justify_content": null,
       "justify_items": null,
       "left": null,
       "margin": null,
       "max_height": null,
       "max_width": null,
       "min_height": null,
       "min_width": null,
       "object_fit": null,
       "object_position": null,
       "order": null,
       "overflow": null,
       "overflow_x": null,
       "overflow_y": null,
       "padding": null,
       "right": null,
       "top": null,
       "visibility": null,
       "width": null
      }
     },
     "ca314b3787844a62b142aa8031160330": {
      "model_module": "@jupyter-widgets/base",
      "model_module_version": "1.2.0",
      "model_name": "LayoutModel",
      "state": {
       "_model_module": "@jupyter-widgets/base",
       "_model_module_version": "1.2.0",
       "_model_name": "LayoutModel",
       "_view_count": null,
       "_view_module": "@jupyter-widgets/base",
       "_view_module_version": "1.2.0",
       "_view_name": "LayoutView",
       "align_content": null,
       "align_items": null,
       "align_self": null,
       "border": null,
       "bottom": null,
       "display": null,
       "flex": null,
       "flex_flow": null,
       "grid_area": null,
       "grid_auto_columns": null,
       "grid_auto_flow": null,
       "grid_auto_rows": null,
       "grid_column": null,
       "grid_gap": null,
       "grid_row": null,
       "grid_template_areas": null,
       "grid_template_columns": null,
       "grid_template_rows": null,
       "height": null,
       "justify_content": null,
       "justify_items": null,
       "left": null,
       "margin": null,
       "max_height": null,
       "max_width": null,
       "min_height": null,
       "min_width": null,
       "object_fit": null,
       "object_position": null,
       "order": null,
       "overflow": null,
       "overflow_x": null,
       "overflow_y": null,
       "padding": null,
       "right": null,
       "top": null,
       "visibility": null,
       "width": null
      }
     },
     "dc311bc3262e429c9980c62d00b27222": {
      "model_module": "@jupyter-widgets/controls",
      "model_module_version": "1.5.0",
      "model_name": "HTMLModel",
      "state": {
       "_dom_classes": [],
       "_model_module": "@jupyter-widgets/controls",
       "_model_module_version": "1.5.0",
       "_model_name": "HTMLModel",
       "_view_count": null,
       "_view_module": "@jupyter-widgets/controls",
       "_view_module_version": "1.5.0",
       "_view_name": "HTMLView",
       "description": "",
       "description_tooltip": null,
       "layout": "IPY_MODEL_a779d8b6c93e4b4fabb7fc0ef8ae710c",
       "placeholder": "​",
       "style": "IPY_MODEL_556e176be0ec47b99675268853b4f0ce",
       "value": "Generate report structure: 100%"
      }
     },
     "e3aa2ce736594916a0a1515127f19f61": {
      "model_module": "@jupyter-widgets/controls",
      "model_module_version": "1.5.0",
      "model_name": "HTMLModel",
      "state": {
       "_dom_classes": [],
       "_model_module": "@jupyter-widgets/controls",
       "_model_module_version": "1.5.0",
       "_model_name": "HTMLModel",
       "_view_count": null,
       "_view_module": "@jupyter-widgets/controls",
       "_view_module_version": "1.5.0",
       "_view_name": "HTMLView",
       "description": "",
       "description_tooltip": null,
       "layout": "IPY_MODEL_c875785f35bf40dcb6b110db2327863c",
       "placeholder": "​",
       "style": "IPY_MODEL_edfb2272edcd49a99f139b11ce2d053a",
       "value": "Summarize dataset: 100%"
      }
     },
     "e3da01df9c0446b08c6f67bc84df0349": {
      "model_module": "@jupyter-widgets/controls",
      "model_module_version": "1.5.0",
      "model_name": "DescriptionStyleModel",
      "state": {
       "_model_module": "@jupyter-widgets/controls",
       "_model_module_version": "1.5.0",
       "_model_name": "DescriptionStyleModel",
       "_view_count": null,
       "_view_module": "@jupyter-widgets/base",
       "_view_module_version": "1.2.0",
       "_view_name": "StyleView",
       "description_width": ""
      }
     },
     "edfb2272edcd49a99f139b11ce2d053a": {
      "model_module": "@jupyter-widgets/controls",
      "model_module_version": "1.5.0",
      "model_name": "DescriptionStyleModel",
      "state": {
       "_model_module": "@jupyter-widgets/controls",
       "_model_module_version": "1.5.0",
       "_model_name": "DescriptionStyleModel",
       "_view_count": null,
       "_view_module": "@jupyter-widgets/base",
       "_view_module_version": "1.2.0",
       "_view_name": "StyleView",
       "description_width": ""
      }
     },
     "f75861f42fca4fd8addf0f1c3710dbec": {
      "model_module": "@jupyter-widgets/controls",
      "model_module_version": "1.5.0",
      "model_name": "DescriptionStyleModel",
      "state": {
       "_model_module": "@jupyter-widgets/controls",
       "_model_module_version": "1.5.0",
       "_model_name": "DescriptionStyleModel",
       "_view_count": null,
       "_view_module": "@jupyter-widgets/base",
       "_view_module_version": "1.2.0",
       "_view_name": "StyleView",
       "description_width": ""
      }
     },
     "fa7fc36911cf4539b8a9eb5b32e49c23": {
      "model_module": "@jupyter-widgets/base",
      "model_module_version": "1.2.0",
      "model_name": "LayoutModel",
      "state": {
       "_model_module": "@jupyter-widgets/base",
       "_model_module_version": "1.2.0",
       "_model_name": "LayoutModel",
       "_view_count": null,
       "_view_module": "@jupyter-widgets/base",
       "_view_module_version": "1.2.0",
       "_view_name": "LayoutView",
       "align_content": null,
       "align_items": null,
       "align_self": null,
       "border": null,
       "bottom": null,
       "display": null,
       "flex": null,
       "flex_flow": null,
       "grid_area": null,
       "grid_auto_columns": null,
       "grid_auto_flow": null,
       "grid_auto_rows": null,
       "grid_column": null,
       "grid_gap": null,
       "grid_row": null,
       "grid_template_areas": null,
       "grid_template_columns": null,
       "grid_template_rows": null,
       "height": null,
       "justify_content": null,
       "justify_items": null,
       "left": null,
       "margin": null,
       "max_height": null,
       "max_width": null,
       "min_height": null,
       "min_width": null,
       "object_fit": null,
       "object_position": null,
       "order": null,
       "overflow": null,
       "overflow_x": null,
       "overflow_y": null,
       "padding": null,
       "right": null,
       "top": null,
       "visibility": null,
       "width": null
      }
     },
     "fafa844d2a8a426ea14aee5e9cf03a54": {
      "model_module": "@jupyter-widgets/base",
      "model_module_version": "1.2.0",
      "model_name": "LayoutModel",
      "state": {
       "_model_module": "@jupyter-widgets/base",
       "_model_module_version": "1.2.0",
       "_model_name": "LayoutModel",
       "_view_count": null,
       "_view_module": "@jupyter-widgets/base",
       "_view_module_version": "1.2.0",
       "_view_name": "LayoutView",
       "align_content": null,
       "align_items": null,
       "align_self": null,
       "border": null,
       "bottom": null,
       "display": null,
       "flex": null,
       "flex_flow": null,
       "grid_area": null,
       "grid_auto_columns": null,
       "grid_auto_flow": null,
       "grid_auto_rows": null,
       "grid_column": null,
       "grid_gap": null,
       "grid_row": null,
       "grid_template_areas": null,
       "grid_template_columns": null,
       "grid_template_rows": null,
       "height": null,
       "justify_content": null,
       "justify_items": null,
       "left": null,
       "margin": null,
       "max_height": null,
       "max_width": null,
       "min_height": null,
       "min_width": null,
       "object_fit": null,
       "object_position": null,
       "order": null,
       "overflow": null,
       "overflow_x": null,
       "overflow_y": null,
       "padding": null,
       "right": null,
       "top": null,
       "visibility": null,
       "width": null
      }
     }
    },
    "version_major": 2,
    "version_minor": 0
   }
  }
 },
 "nbformat": 4,
 "nbformat_minor": 5
}
